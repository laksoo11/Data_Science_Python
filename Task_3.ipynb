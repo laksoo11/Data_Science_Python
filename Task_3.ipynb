{
 "cells": [
  {
   "cell_type": "markdown",
   "id": "938ee751-b23e-47b7-bb5b-250186009621",
   "metadata": {},
   "source": [
    "\n",
    "# Task  3) Scenario:  Employee Salary Management System"
   ]
  },
  {
   "cell_type": "code",
   "execution_count": 12,
   "id": "244ca677-579b-41b9-b8e3-2af4ed59001d",
   "metadata": {},
   "outputs": [
    {
     "name": "stdin",
     "output_type": "stream",
     "text": [
      "Enter the number of employees:  2\n",
      "\n",
      "Enter employee name:  Harry\n",
      "Enter hours worked by Harry in a week:  37\n",
      "Enter hourly rate for Harry:  10\n",
      "Enter performance rating for Harry (1 to 5):  4\n"
     ]
    },
    {
     "name": "stdout",
     "output_type": "stream",
     "text": [
      "\n",
      "Salary breakdown for Harry:\n",
      "Base Salary: $370.00\n",
      "Bonus: $37.00\n",
      "Overtime Pay: $0.00\n",
      "Tax Deducted: $0.00\n",
      "Total Salary (after tax): $407.00\n"
     ]
    },
    {
     "name": "stdin",
     "output_type": "stream",
     "text": [
      "\n",
      "Enter employee name:  Jamie\n",
      "Enter hours worked by Jamie in a week:  45\n",
      "Enter hourly rate for Jamie:  20\n",
      "Enter performance rating for Jamie (1 to 5):  5\n"
     ]
    },
    {
     "name": "stdout",
     "output_type": "stream",
     "text": [
      "\n",
      "Salary breakdown for Jamie:\n",
      "Base Salary: $900.00\n",
      "Bonus: $180.00\n",
      "Overtime Pay: $150.00\n",
      "Tax Deducted: $123.00\n",
      "Total Salary (after tax): $1107.00\n",
      "\n",
      "--- Company Payroll Summary ---\n",
      "Total payroll for the company: $1514.00\n",
      "The highest paid employee is Jamie with a salary of $1107.00\n"
     ]
    }
   ],
   "source": [
    "# Employee Salary Management System\n",
    "\n",
    "def calculate_salary(hours_worked, hourly_rate, performance_rating):\n",
    "    # Base salary\n",
    "    weekly_salary = hours_worked * hourly_rate\n",
    "    \n",
    "    # Performance-based bonus\n",
    "    if performance_rating == 5:\n",
    "        bonus = 0.20 * weekly_salary  # 20% bonus\n",
    "    elif performance_rating == 4:\n",
    "        bonus = 0.10 * weekly_salary  # 10% bonus\n",
    "    elif performance_rating == 3:\n",
    "        bonus = 0.05 * weekly_salary  # 5% bonus\n",
    "    else:\n",
    "        bonus = 0  # No bonus for ratings 1 and 2\n",
    "    \n",
    "    # Overtime pay (1.5 times hourly rate for hours worked over 40)\n",
    "    overtime_pay = 0\n",
    "    if hours_worked > 40:\n",
    "        overtime_hours = hours_worked - 40\n",
    "        overtime_pay = overtime_hours * hourly_rate * 1.5\n",
    "    \n",
    "    # Total salary before tax\n",
    "    total_salary = weekly_salary + bonus + overtime_pay\n",
    "    \n",
    "    # Tax deduction (10% tax if salary exceeds $1000)\n",
    "    tax_deduction = 0\n",
    "    if total_salary > 1000:\n",
    "        tax_deduction = 0.10 * total_salary  # 10% tax deduction\n",
    "    \n",
    "    # Final salary after tax deduction\n",
    "    final_salary = total_salary - tax_deduction\n",
    "    \n",
    "    return weekly_salary, bonus, overtime_pay, tax_deduction, final_salary\n",
    "\n",
    "\n",
    "def main():\n",
    "    # Number of employees\n",
    "    num_employees = int(input(\"Enter the number of employees: \"))\n",
    "    \n",
    "    # Initialize variables for company-wide summary\n",
    "    total_payroll = 0\n",
    "    highest_paid_employee = \"\"\n",
    "    highest_salary = 0\n",
    "    \n",
    "    for _ in range(num_employees):\n",
    "        # Employee details\n",
    "        name = input(\"\\nEnter employee name: \")\n",
    "        hours_worked = float(input(f\"Enter hours worked by {name} in a week: \"))\n",
    "        hourly_rate = float(input(f\"Enter hourly rate for {name}: \"))\n",
    "        performance_rating = int(input(f\"Enter performance rating for {name} (1 to 5): \"))\n",
    "        \n",
    "        # Calculate salary components\n",
    "        weekly_salary, bonus, overtime_pay, tax_deduction, final_salary = calculate_salary(hours_worked, hourly_rate, performance_rating)\n",
    "        \n",
    "        # Print breakdown for the employee\n",
    "        print(f\"\\nSalary breakdown for {name}:\")\n",
    "        print(f\"Base Salary: ${weekly_salary:.2f}\")\n",
    "        print(f\"Bonus: ${bonus:.2f}\")\n",
    "        print(f\"Overtime Pay: ${overtime_pay:.2f}\")\n",
    "        print(f\"Tax Deducted: ${tax_deduction:.2f}\")\n",
    "        print(f\"Total Salary (after tax): ${final_salary:.2f}\")\n",
    "        \n",
    "        # Update company-wide summary\n",
    "        total_payroll += final_salary\n",
    "        if final_salary > highest_salary:\n",
    "            highest_salary = final_salary\n",
    "            highest_paid_employee = name\n",
    "    \n",
    "    # Overall summary\n",
    "    print(\"\\n--- Company Payroll Summary ---\")\n",
    "    print(f\"Total payroll for the company: ${total_payroll:.2f}\")\n",
    "    print(f\"The highest paid employee is {highest_paid_employee} with a salary of ${highest_salary:.2f}\")\n",
    "\n",
    "\n",
    "# Run the program\n",
    "main()\n"
   ]
  },
  {
   "cell_type": "code",
   "execution_count": null,
   "id": "04c2280e-a3fb-4ccc-9283-94b8833ad0ae",
   "metadata": {},
   "outputs": [],
   "source": []
  },
  {
   "cell_type": "code",
   "execution_count": null,
   "id": "dafc9685-1fb0-4458-8918-ae68dd15f14b",
   "metadata": {},
   "outputs": [],
   "source": []
  },
  {
   "cell_type": "code",
   "execution_count": null,
   "id": "a9ab4b10-c256-4357-ac1f-f567548cf2a5",
   "metadata": {},
   "outputs": [],
   "source": []
  }
 ],
 "metadata": {
  "kernelspec": {
   "display_name": "Python 3 (ipykernel)",
   "language": "python",
   "name": "python3"
  },
  "language_info": {
   "codemirror_mode": {
    "name": "ipython",
    "version": 3
   },
   "file_extension": ".py",
   "mimetype": "text/x-python",
   "name": "python",
   "nbconvert_exporter": "python",
   "pygments_lexer": "ipython3",
   "version": "3.12.7"
  }
 },
 "nbformat": 4,
 "nbformat_minor": 5
}
