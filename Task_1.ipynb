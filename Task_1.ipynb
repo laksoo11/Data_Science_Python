{
 "cells": [
  {
   "cell_type": "markdown",
   "id": "db9749e0-36b5-4441-83f4-9c406f2c3054",
   "metadata": {},
   "source": [
    "Markdown\n",
    "\n",
    "# ASSIGNMENT 1 \n",
    "# TASK 1) Converting Units for Real-Life Scenarios"
   ]
  },
  {
   "cell_type": "code",
   "execution_count": 68,
   "id": "2e7a8c9a-338d-4cfd-bccd-51eb08ec8ac0",
   "metadata": {},
   "outputs": [
    {
     "name": "stdin",
     "output_type": "stream",
     "text": [
      "Enter the Length in Meters =  22\n",
      "Enter the Length in kilometers =  2\n"
     ]
    },
    {
     "name": "stdout",
     "output_type": "stream",
     "text": [
      "The length in  Feet  = 72.16 \n",
      "The Length in  Miles = 1.242742 \n"
     ]
    }
   ],
   "source": [
    "len_l1 = float(input(\"Enter the Length in Meters = \"))\n",
    "len_l2 = float(input(\"Enter the Length in kilometers = \"))\n",
    "\n",
    "x = len_l1 * 3.28\n",
    "y = len_l2 * 0.621371\n",
    "\n",
    "\n",
    "print(f\"The length in  Feet  = {x} \")\n",
    "print(f\"The Length in  Miles = {y} \")"
   ]
  },
  {
   "cell_type": "code",
   "execution_count": 70,
   "id": "b9b3da0c-933a-442e-aac0-bd4308c48fb6",
   "metadata": {},
   "outputs": [
    {
     "name": "stdin",
     "output_type": "stream",
     "text": [
      "Enter the Weight in KG =  60\n",
      "Enter the Weight in grams =  900\n"
     ]
    },
    {
     "name": "stdout",
     "output_type": "stream",
     "text": [
      "The Weight in Pounds = 132.2772\n",
      "The Weight in Ounces = 31.7466\n"
     ]
    }
   ],
   "source": [
    "weight_w1 = float(input(\"Enter the Weight in KG = \"))\n",
    "weight_w2 = float(input(\"Enter the Weight in grams = \"))\n",
    "\n",
    "a = weight_w1 * 2.20462\n",
    "b = weight_w2 * 0.035274\n",
    "\n",
    "print(f\"The Weight in Pounds = {a}\")\n",
    "print(f\"The Weight in Ounces = {b}\")\n",
    " \n"
   ]
  },
  {
   "cell_type": "code",
   "execution_count": 74,
   "id": "ac80d3b2-189d-4c85-94e4-fee6c3d60171",
   "metadata": {},
   "outputs": [
    {
     "name": "stdin",
     "output_type": "stream",
     "text": [
      "Enter the Temperature in Celcius =  33.33\n",
      "Enter the Temperature in Fahrenheit =  80\n"
     ]
    },
    {
     "name": "stdout",
     "output_type": "stream",
     "text": [
      "The Temperature in Fahrenheit = 91.994\n",
      "The Temperature in Celcius = 26.666666666666668\n"
     ]
    }
   ],
   "source": [
    "temp_t1 = float(input(\"Enter the Temperature in Celcius = \"))\n",
    "temp_t2 = float(input(\"Enter the Temperature in Fahrenheit = \"))\n",
    "\n",
    "t1 = (temp_t1 * 9/5) + 32\n",
    "t2 = (temp_t2 - 32) * 5/9\n",
    "\n",
    "\n",
    "print(f\"The Temperature in Fahrenheit = {t1}\")\n",
    "print(f\"The Temperature in Celcius = {t2}\")"
   ]
  },
  {
   "cell_type": "code",
   "execution_count": null,
   "id": "419c7693-8e52-40ef-a5b2-5037706ef3e6",
   "metadata": {},
   "outputs": [],
   "source": [
    "\n",
    "\n"
   ]
  },
  {
   "cell_type": "code",
   "execution_count": null,
   "id": "53a43e0c-2f23-411e-98a9-6ca3fb302348",
   "metadata": {},
   "outputs": [],
   "source": []
  }
 ],
 "metadata": {
  "kernelspec": {
   "display_name": "Python 3 (ipykernel)",
   "language": "python",
   "name": "python3"
  },
  "language_info": {
   "codemirror_mode": {
    "name": "ipython",
    "version": 3
   },
   "file_extension": ".py",
   "mimetype": "text/x-python",
   "name": "python",
   "nbconvert_exporter": "python",
   "pygments_lexer": "ipython3",
   "version": "3.12.7"
  }
 },
 "nbformat": 4,
 "nbformat_minor": 5
}
