{
 "cells": [
  {
   "cell_type": "code",
   "execution_count": 5,
   "id": "1b57d344-c0e1-4418-b924-04b9c2c57e8b",
   "metadata": {},
   "outputs": [
    {
     "name": "stdout",
     "output_type": "stream",
     "text": [
      "hello world\n"
     ]
    }
   ],
   "source": [
    "print (\"hello world\")\n",
    "\n"
   ]
  },
  {
   "cell_type": "markdown",
   "id": "dc72ee40-6ac5-474b-8054-5c5b7ddc3bbd",
   "metadata": {},
   "source": [
    "MARKDOWN\n",
    "\n",
    "# THIS IS MY 1ST PYTHON CODE\n"
   ]
  },
  {
   "cell_type": "code",
   "execution_count": 10,
   "id": "1659af6c-a4c9-4f24-b21e-c090ed9fbfd8",
   "metadata": {},
   "outputs": [
    {
     "name": "stdout",
     "output_type": "stream",
     "text": [
      "this is false\n"
     ]
    }
   ],
   "source": [
    "x = 5\n",
    "y = 6\n",
    "if x > y : print (\"this is true\")\n",
    "else: print (\"this is false\")"
   ]
  },
  {
   "cell_type": "code",
   "execution_count": 22,
   "id": "cd044500-3fd4-435a-8235-5f75e9fd7528",
   "metadata": {},
   "outputs": [
    {
     "name": "stdin",
     "output_type": "stream",
     "text": [
      "Enter a number: 1\n",
      "Enter a number: 2\n"
     ]
    },
    {
     "name": "stdout",
     "output_type": "stream",
     "text": [
      "THIS IS ODD\n"
     ]
    }
   ],
   "source": [
    "x = int(input(\"Enter a number:\"))\n",
    "y = int(input(\"Enter a number:\"))\n",
    "\n",
    "if x % y == 0 : print(\"THIS IS EVEN\")\n",
    "else: print (\"THIS IS ODD\")\n",
    "\n",
    "\n"
   ]
  },
  {
   "cell_type": "code",
   "execution_count": 2,
   "id": "0f45c85a-8136-459a-89b6-094b98dad9fb",
   "metadata": {},
   "outputs": [
    {
     "name": "stdout",
     "output_type": "stream",
     "text": [
      "my 1st python code\n"
     ]
    }
   ],
   "source": [
    "\"\"\"\" print(\"my 1st python code\") \"\"\"\""
   ]
  },
  {
   "cell_type": "code",
   "execution_count": 6,
   "id": "0a854976-9ecb-4848-8f72-04c5725fc5f4",
   "metadata": {},
   "outputs": [
    {
     "name": "stdout",
     "output_type": "stream",
     "text": [
      "x= 2\n",
      "X= 5\n"
     ]
    }
   ],
   "source": [
    "x = 2\n",
    "X = 5\n",
    "print('x=' ,x)\n",
    "print('X=', X)"
   ]
  },
  {
   "cell_type": "code",
   "execution_count": 10,
   "id": "01f2ec79-a150-4ad4-b844-f23f1e567fb2",
   "metadata": {},
   "outputs": [
    {
     "name": "stdout",
     "output_type": "stream",
     "text": [
      "Ankit Shakya\n"
     ]
    }
   ],
   "source": [
    "x = \"Ankit\"\n",
    "y = \"Shakya\"\n",
    "\n",
    "print( x,y)"
   ]
  },
  {
   "cell_type": "code",
   "execution_count": 12,
   "id": "9ebd64d5-b228-441c-a158-c9a0b69cf702",
   "metadata": {},
   "outputs": [
    {
     "ename": "SyntaxError",
     "evalue": "invalid decimal literal (1397956.py, line 1)",
     "output_type": "error",
     "traceback": [
      "\u001b[1;36m  Cell \u001b[1;32mIn[12], line 1\u001b[1;36m\u001b[0m\n\u001b[1;33m    7name = \"Harry\"\u001b[0m\n\u001b[1;37m    ^\u001b[0m\n\u001b[1;31mSyntaxError\u001b[0m\u001b[1;31m:\u001b[0m invalid decimal literal\n"
     ]
    }
   ],
   "source": [
    "7name = \"Harry\""
   ]
  },
  {
   "cell_type": "code",
   "execution_count": 20,
   "id": "adb7c4d5-3020-4454-a3c2-4425f0c5c493",
   "metadata": {},
   "outputs": [
    {
     "name": "stdout",
     "output_type": "stream",
     "text": [
      "my name is  Ankit\n"
     ]
    }
   ],
   "source": [
    "name = \"Ankit\"\n",
    "age = 20\n",
    "print(\"my name is \", name)"
   ]
  },
  {
   "cell_type": "code",
   "execution_count": 28,
   "id": "711c972c-524a-4709-a97b-78e3d85b1190",
   "metadata": {},
   "outputs": [
    {
     "name": "stdout",
     "output_type": "stream",
     "text": [
      "type <class 'dict'>\n"
     ]
    }
   ],
   "source": [
    "my_info = {name: \"Sam\" , age : 25}\n",
    "print(\"type\" , type(my_info))\n",
    "\n",
    "\n",
    "#type() to show the data type"
   ]
  },
  {
   "cell_type": "code",
   "execution_count": 40,
   "id": "20aa2a9f-549f-4e1d-855a-6e802aa6c0ad",
   "metadata": {},
   "outputs": [
    {
     "data": {
      "text/plain": [
       "2"
      ]
     },
     "execution_count": 40,
     "metadata": {},
     "output_type": "execute_result"
    }
   ],
   "source": [
    "int_var = int(2.23)\n",
    "int_var\n",
    "\n"
   ]
  },
  {
   "cell_type": "code",
   "execution_count": 36,
   "id": "f861a401-4850-4543-ad99-b15656a192b5",
   "metadata": {},
   "outputs": [
    {
     "data": {
      "text/plain": [
       "45"
      ]
     },
     "execution_count": 36,
     "metadata": {},
     "output_type": "execute_result"
    }
   ],
   "source": [
    "\n",
    "int('45')"
   ]
  },
  {
   "cell_type": "code",
   "execution_count": 42,
   "id": "2747eb65-a0e1-4cd8-80f4-7ddaae6e0d3d",
   "metadata": {},
   "outputs": [
    {
     "data": {
      "text/plain": [
       "5"
      ]
     },
     "execution_count": 42,
     "metadata": {},
     "output_type": "execute_result"
    }
   ],
   "source": [
    "2+3"
   ]
  },
  {
   "cell_type": "code",
   "execution_count": 44,
   "id": "bb3fa7a2-3344-438d-bf0c-81f40d96d8b3",
   "metadata": {},
   "outputs": [
    {
     "data": {
      "text/plain": [
       "1"
      ]
     },
     "execution_count": 44,
     "metadata": {},
     "output_type": "execute_result"
    }
   ],
   "source": [
    "4%3"
   ]
  },
  {
   "cell_type": "code",
   "execution_count": 46,
   "id": "90586132-b1ff-4cbd-b790-110421ae6f34",
   "metadata": {},
   "outputs": [
    {
     "ename": "SyntaxError",
     "evalue": "invalid syntax (2736665856.py, line 1)",
     "output_type": "error",
     "traceback": [
      "\u001b[1;36m  Cell \u001b[1;32mIn[46], line 1\u001b[1;36m\u001b[0m\n\u001b[1;33m    4**\u001b[0m\n\u001b[1;37m       ^\u001b[0m\n\u001b[1;31mSyntaxError\u001b[0m\u001b[1;31m:\u001b[0m invalid syntax\n"
     ]
    }
   ],
   "source": [
    "4**"
   ]
  },
  {
   "cell_type": "code",
   "execution_count": 48,
   "id": "c124add4-4357-4ec5-827f-c9da23181ad9",
   "metadata": {},
   "outputs": [
    {
     "data": {
      "text/plain": [
       "1"
      ]
     },
     "execution_count": 48,
     "metadata": {},
     "output_type": "execute_result"
    }
   ],
   "source": [
    "5//3"
   ]
  },
  {
   "cell_type": "code",
   "execution_count": 58,
   "id": "7c2165eb-e6b4-4d21-b211-e8c3e4d9eaca",
   "metadata": {},
   "outputs": [],
   "source": [
    "x= 7*(3+8-4)/6 "
   ]
  },
  {
   "cell_type": "code",
   "execution_count": 60,
   "id": "6c9b302f-b1db-4959-9575-b70bc35981f3",
   "metadata": {},
   "outputs": [
    {
     "data": {
      "text/plain": [
       "8.166666666666666"
      ]
     },
     "execution_count": 60,
     "metadata": {},
     "output_type": "execute_result"
    }
   ],
   "source": [
    "x"
   ]
  },
  {
   "cell_type": "code",
   "execution_count": 68,
   "id": "fbc274fa-9d2a-4aa5-8a63-f5b4fc7eed49",
   "metadata": {},
   "outputs": [
    {
     "data": {
      "text/plain": [
       "2"
      ]
     },
     "execution_count": 68,
     "metadata": {},
     "output_type": "execute_result"
    }
   ],
   "source": [
    "x = 5\n",
    "x %=3\n",
    "x\n"
   ]
  },
  {
   "cell_type": "code",
   "execution_count": 70,
   "id": "d7383087-c616-4967-80a7-1244797f9c17",
   "metadata": {},
   "outputs": [
    {
     "data": {
      "text/plain": [
       "False"
      ]
     },
     "execution_count": 70,
     "metadata": {},
     "output_type": "execute_result"
    }
   ],
   "source": [
    "a= 2\n",
    "b=3\n",
    "\n",
    "a>2 and b>2"
   ]
  },
  {
   "cell_type": "code",
   "execution_count": 72,
   "id": "dc71f918-87e5-4043-b24b-aa59049d71e1",
   "metadata": {},
   "outputs": [
    {
     "data": {
      "text/plain": [
       "True"
      ]
     },
     "execution_count": 72,
     "metadata": {},
     "output_type": "execute_result"
    }
   ],
   "source": [
    "a= 2\n",
    "b=3\n",
    "\n",
    "a>2 or b>2"
   ]
  },
  {
   "cell_type": "code",
   "execution_count": null,
   "id": "e81097f2-f89c-48e7-8d66-654451af89f9",
   "metadata": {},
   "outputs": [],
   "source": [
    "// identity operator\n",
    "\n"
   ]
  },
  {
   "cell_type": "code",
   "execution_count": 80,
   "id": "bec7ae83-5601-4199-a527-2dceab0197b4",
   "metadata": {},
   "outputs": [
    {
     "data": {
      "text/plain": [
       "(5, 7)"
      ]
     },
     "execution_count": 80,
     "metadata": {},
     "output_type": "execute_result"
    }
   ],
   "source": [
    "x = 5,7\n",
    "x"
   ]
  },
  {
   "cell_type": "code",
   "execution_count": 27,
   "id": "41b0b508-1991-4b8a-ae28-199698a37d65",
   "metadata": {},
   "outputs": [
    {
     "name": "stdout",
     "output_type": "stream",
     "text": [
      "Sunday\n",
      "Saturday\n"
     ]
    },
    {
     "data": {
      "text/plain": [
       "True"
      ]
     },
     "execution_count": 27,
     "metadata": {},
     "output_type": "execute_result"
    }
   ],
   "source": [
    "days_of_week = ['Sunday', 'Monday','Tuesday','Wednesday','Thrusday','Friday','Saturday']\n",
    "\n",
    "days_of_week\n",
    "\n",
    "len(days_of_week)\n",
    "\n",
    "print(days_of_week[0])\n",
    "\n",
    "print(days_of_week[-1])\n",
    "\n",
    "days_of_week_0_3 = days_of_week[1:4]\n",
    "days_of_week_0_3\n",
    "days_of_week[:3]\n",
    "\n",
    "'Saturday' in days_of_week"
   ]
  },
  {
   "cell_type": "code",
   "execution_count": null,
   "id": "3dec334a-1766-4fca-984b-55d42fa45477",
   "metadata": {},
   "outputs": [],
   "source": [
    "#indexing 2 types implexive and exlivice"
   ]
  },
  {
   "cell_type": "code",
   "execution_count": 29,
   "id": "c63e06c8-6ab1-4003-960a-24ffcd64b3c8",
   "metadata": {},
   "outputs": [
    {
     "data": {
      "text/plain": [
       "['Sunday', 'Mon', 'Tuesday', 'Wednesday', 'Thrusday', 'Friday', 'Saturday']"
      ]
     },
     "execution_count": 29,
     "metadata": {},
     "output_type": "execute_result"
    }
   ],
   "source": [
    "days_of_week[1] = \"Mon\"\n",
    "days_of_week"
   ]
  },
  {
   "cell_type": "code",
   "execution_count": 39,
   "id": "7ba91573-7e06-494e-815c-ced8c105c881",
   "metadata": {},
   "outputs": [
    {
     "name": "stdout",
     "output_type": "stream",
     "text": [
      "['Sunday', 'Mondi', 'Thrusday', 'Friday', 'Saturday', 'Fri', 'Sat', 'Sat']\n",
      "8\n"
     ]
    }
   ],
   "source": [
    "days_of_week[5:6] = [\"Fri\",\"Sat\"]\n",
    "print(days_of_week)\n",
    "print(len(days_of_week))"
   ]
  },
  {
   "cell_type": "code",
   "execution_count": 34,
   "id": "ac9573a7-7778-4ea0-8a32-d9acbdfea080",
   "metadata": {},
   "outputs": [
    {
     "data": {
      "text/plain": [
       "['Sunday', 'Mondi', 'Thrusday', 'Friday', 'Saturday']"
      ]
     },
     "execution_count": 34,
     "metadata": {},
     "output_type": "execute_result"
    }
   ],
   "source": [
    "days_of_week[1:3] = [\"Mondi\"]\n",
    "days_of_week"
   ]
  },
  {
   "cell_type": "code",
   "execution_count": 43,
   "id": "4cb5e7cc-0830-457d-9054-2e474f2c313a",
   "metadata": {},
   "outputs": [
    {
     "data": {
      "text/plain": [
       "[1, 'inserted', 2, 3]"
      ]
     },
     "execution_count": 43,
     "metadata": {},
     "output_type": "execute_result"
    }
   ],
   "source": [
    "# inserting items\n",
    "my_list = [1,2,3]\n",
    "my_list.insert(1,\"inserted\")\n",
    "my_list"
   ]
  },
  {
   "cell_type": "code",
   "execution_count": 45,
   "id": "6e657c27-38a0-4951-a914-73426b46b402",
   "metadata": {},
   "outputs": [
    {
     "data": {
      "text/plain": [
       "[1, 'inserted', 2, 3, 100, 200]"
      ]
     },
     "execution_count": 45,
     "metadata": {},
     "output_type": "execute_result"
    }
   ],
   "source": [
    "list_to_add = [100,200]\n",
    "my_list.extend(list_to_add)\n",
    "my_list"
   ]
  },
  {
   "cell_type": "code",
   "execution_count": 47,
   "id": "ef3de3ba-dd38-4192-8ba2-e4f2037dfe9a",
   "metadata": {},
   "outputs": [
    {
     "data": {
      "text/plain": [
       "['One', 'Three']"
      ]
     },
     "execution_count": 47,
     "metadata": {},
     "output_type": "execute_result"
    }
   ],
   "source": [
    "my_list = [\"One\",\"Two\",\"Three\"]\n",
    "my_list.remove(\"Two\")\n",
    "my_list"
   ]
  },
  {
   "cell_type": "code",
   "execution_count": 51,
   "id": "2cdaa4f3-f9bc-45d2-a03c-f5a09321baf8",
   "metadata": {},
   "outputs": [
    {
     "data": {
      "text/plain": [
       "[1, 3]"
      ]
     },
     "execution_count": 51,
     "metadata": {},
     "output_type": "execute_result"
    }
   ],
   "source": [
    "my_list = [1,2,3]\n",
    "my_list.pop(1)\n",
    "my_list"
   ]
  },
  {
   "cell_type": "code",
   "execution_count": 53,
   "id": "02119338-6e88-4d61-a73e-1451d98e35ce",
   "metadata": {},
   "outputs": [
    {
     "data": {
      "text/plain": [
       "['Apr', 'Feb', 'Jan', 'Mar']"
      ]
     },
     "execution_count": 53,
     "metadata": {},
     "output_type": "execute_result"
    }
   ],
   "source": [
    "# SORT LIST \n",
    "months_list = [\"Jan\",\"Feb\", \"Mar\", \"Apr\"]\n",
    "months_list.sort()\n",
    "months_list"
   ]
  },
  {
   "cell_type": "code",
   "execution_count": 57,
   "id": "c01998f2-082d-4cb5-a38e-77f2843e452e",
   "metadata": {},
   "outputs": [
    {
     "data": {
      "text/plain": [
       "[100, 15, 10, 5, 3, -1]"
      ]
     },
     "execution_count": 57,
     "metadata": {},
     "output_type": "execute_result"
    }
   ],
   "source": [
    "num_list = [5,3,10,15,-1,100]\n",
    "num_list.sort(reverse=True)\n",
    "num_list\n",
    "\n",
    "# for sorting by decending order"
   ]
  },
  {
   "cell_type": "code",
   "execution_count": 61,
   "id": "2f0ce7b0-484f-4ee6-a771-d89e1e4d6383",
   "metadata": {},
   "outputs": [
    {
     "data": {
      "text/plain": [
       "['Kathmandu', 'Lahore', 'chicago', 'london', 'new york']"
      ]
     },
     "execution_count": 61,
     "metadata": {},
     "output_type": "execute_result"
    }
   ],
   "source": [
    "cities_list = [\"Kathmandu\", \"london\" , \"chicago\", \"new york\", \"Lahore\"]\n",
    "cities_list.sort()\n",
    "cities_list\n",
    "\n"
   ]
  },
  {
   "cell_type": "code",
   "execution_count": 65,
   "id": "872daa31-4933-4fdf-94bc-8d4b9d4419df",
   "metadata": {},
   "outputs": [
    {
     "data": {
      "text/plain": [
       "['chicago', 'Kathmandu', 'Lahore', 'london', 'new york']"
      ]
     },
     "execution_count": 65,
     "metadata": {},
     "output_type": "execute_result"
    }
   ],
   "source": [
    "cities_list = [\"Kathmandu\", \"london\" , \"chicago\", \"new york\", \"Lahore\"]\n",
    "cities_list.sort(key =  str.lower)\n",
    "cities_list"
   ]
  },
  {
   "cell_type": "code",
   "execution_count": 71,
   "id": "05d18e61-2da7-4d22-9c5d-ee9e1a1ea876",
   "metadata": {},
   "outputs": [
    {
     "name": "stdout",
     "output_type": "stream",
     "text": [
      "x is greater than 5\n"
     ]
    }
   ],
   "source": [
    "# if statement\n",
    "x= 7\n",
    "if x > 5:\n",
    "    print(\"x is greater than 5\")"
   ]
  },
  {
   "cell_type": "code",
   "execution_count": 69,
   "id": "c9be002a-4996-4643-9194-2fdafbf71838",
   "metadata": {},
   "outputs": [],
   "source": [
    "x= 7\n",
    "if x < 5:\n",
    "    print(\"x is greater than 5\")"
   ]
  },
  {
   "cell_type": "code",
   "execution_count": 87,
   "id": "779fdb6c-c6a8-4ddb-ac19-a70af588b450",
   "metadata": {},
   "outputs": [
    {
     "name": "stdout",
     "output_type": "stream",
     "text": [
      "x is greater than 3\n"
     ]
    }
   ],
   "source": [
    "# elif keyword also try with x= 6,1,2\n",
    "\n",
    "x= 4\n",
    "if x >5:\n",
    "    print('x is greather than 5')\n",
    "elif x >3:\n",
    "    print('x is greater than 3')\n",
    "elif x>1:\n",
    "    print('x is greater than 1')\n",
    "    "
   ]
  },
  {
   "cell_type": "code",
   "execution_count": 89,
   "id": "15cadc1a-467e-4d5e-b54f-4aa1c38fa39a",
   "metadata": {},
   "outputs": [
    {
     "name": "stdout",
     "output_type": "stream",
     "text": [
      "x is less than or equal to 1\n"
     ]
    }
   ],
   "source": [
    "# else keyword\n",
    "x=1\n",
    "if x>5:\n",
    "    print('x is greater than 5')\n",
    "elif x>3:\n",
    "    print('x is greater than 3')\n",
    "elif x>1:\n",
    "    print('x is greater than 1')\n",
    "else:\n",
    "    print(\"x is less than or equal to 1\")"
   ]
  },
  {
   "cell_type": "code",
   "execution_count": 93,
   "id": "b24eae48-ad7f-4229-9823-ea3abea54ae5",
   "metadata": {},
   "outputs": [
    {
     "name": "stdout",
     "output_type": "stream",
     "text": [
      "x is equal to 3\n"
     ]
    }
   ],
   "source": [
    "#short-hand if\n",
    "x =3\n",
    "if x ==3: print(\"x is equal to 3\")"
   ]
  },
  {
   "cell_type": "code",
   "execution_count": 2,
   "id": "cec14efb-53d5-48ca-94a9-70ed11522e0b",
   "metadata": {},
   "outputs": [],
   "source": [
    "# nested if\n",
    "\n"
   ]
  },
  {
   "cell_type": "code",
   "execution_count": 6,
   "id": "37c45e6d-7256-41d7-a8ab-3d44556352af",
   "metadata": {},
   "outputs": [
    {
     "name": "stdout",
     "output_type": "stream",
     "text": [
      "0\n",
      "1\n",
      "2\n",
      "3\n",
      "4\n"
     ]
    }
   ],
   "source": [
    "#while loop use case\n",
    "\n",
    "x = 0 \n",
    "while x <5:\n",
    "    print(x)\n",
    "    x +=1"
   ]
  },
  {
   "cell_type": "code",
   "execution_count": 12,
   "id": "8814bd3e-6fb5-4760-827c-cd04bc6b8368",
   "metadata": {},
   "outputs": [
    {
     "name": "stdout",
     "output_type": "stream",
     "text": [
      "0\n",
      "1\n",
      "2\n",
      "3\n"
     ]
    }
   ],
   "source": [
    "x = 0 \n",
    "while x < 10:\n",
    "    print(x)\n",
    "    x += 1\n",
    "    if x == 4:\n",
    "        break\n",
    "\n",
    "# break statement"
   ]
  },
  {
   "cell_type": "code",
   "execution_count": 16,
   "id": "777b3412-9d1c-4d9a-8a8d-f1ce33b5e2ee",
   "metadata": {},
   "outputs": [
    {
     "name": "stdout",
     "output_type": "stream",
     "text": [
      "{'three', 'one', 'two'}\n",
      "three\n",
      "{'three', 'one', 'two'}\n",
      "one\n",
      "{'three', 'one', 'two'}\n",
      "two\n"
     ]
    }
   ],
   "source": [
    "lst = {\"one\", \"two\" , \"three\"}\n",
    "for num in lst:\n",
    "    print(lst)\n",
    "    print(num)"
   ]
  },
  {
   "cell_type": "code",
   "execution_count": 18,
   "id": "9166414b-8f8e-4952-90d9-543f8841e1c3",
   "metadata": {},
   "outputs": [
    {
     "name": "stdout",
     "output_type": "stream",
     "text": [
      "p\n",
      "y\n",
      "t\n",
      "h\n",
      "o\n",
      "n\n"
     ]
    }
   ],
   "source": [
    "for i in \"python\":\n",
    "    print(i)\n"
   ]
  },
  {
   "cell_type": "code",
   "execution_count": 20,
   "id": "ce96861a-e496-4dbf-8e1a-d26d384d83d6",
   "metadata": {},
   "outputs": [
    {
     "name": "stdout",
     "output_type": "stream",
     "text": [
      "0\n",
      "1\n",
      "2\n",
      "3\n",
      "4\n",
      "5\n"
     ]
    }
   ],
   "source": [
    "for i in range(6):\n",
    "    print(i)"
   ]
  },
  {
   "cell_type": "code",
   "execution_count": 22,
   "id": "fc0cbc87-f120-4598-8a34-6ab7f04a71f6",
   "metadata": {},
   "outputs": [
    {
     "name": "stdout",
     "output_type": "stream",
     "text": [
      "2\n",
      "3\n",
      "4\n",
      "5\n",
      "6\n"
     ]
    }
   ],
   "source": [
    "for i in range(2,7):\n",
    "    print(i)"
   ]
  },
  {
   "cell_type": "code",
   "execution_count": 24,
   "id": "dca12ed1-d8b2-4221-a9e0-005e29e45d1c",
   "metadata": {},
   "outputs": [
    {
     "name": "stdout",
     "output_type": "stream",
     "text": [
      "2\n",
      "5\n",
      "8\n"
     ]
    }
   ],
   "source": [
    "for i in range(2,10,3):\n",
    "    print(i)"
   ]
  },
  {
   "cell_type": "code",
   "execution_count": 26,
   "id": "1a35aada-8485-464c-b62e-6f4f3429e67d",
   "metadata": {},
   "outputs": [
    {
     "name": "stdout",
     "output_type": "stream",
     "text": [
      "red chair\n",
      "red table\n",
      "red house\n",
      "blue chair\n",
      "blue table\n",
      "blue house\n",
      "green chair\n",
      "green table\n",
      "green house\n"
     ]
    }
   ],
   "source": [
    "colors = ['red', 'blue', 'green']\n",
    "objects= ['chair', 'table', 'house']\n",
    "for i in colors:\n",
    "    for j in objects:\n",
    "        print(i,j)"
   ]
  },
  {
   "cell_type": "code",
   "execution_count": 32,
   "id": "179c3efb-c83f-40fa-b635-2580ea15f5bf",
   "metadata": {},
   "outputs": [
    {
     "name": "stdout",
     "output_type": "stream",
     "text": [
      "1 * 1 = 1\n",
      "1 * 2 = 2\n",
      "1 * 3 = 3\n",
      "1 * 4 = 4\n",
      "1 * 5 = 5\n",
      "1 * 6 = 6\n",
      "1 * 7 = 7\n",
      "1 * 8 = 8\n",
      "1 * 9 = 9\n",
      "1 * 10 = 10\n",
      "2 * 1 = 2\n",
      "2 * 2 = 4\n",
      "2 * 3 = 6\n",
      "2 * 4 = 8\n",
      "2 * 5 = 10\n",
      "2 * 6 = 12\n",
      "2 * 7 = 14\n",
      "2 * 8 = 16\n",
      "2 * 9 = 18\n",
      "2 * 10 = 20\n",
      "3 * 1 = 3\n",
      "3 * 2 = 6\n",
      "3 * 3 = 9\n",
      "3 * 4 = 12\n",
      "3 * 5 = 15\n",
      "3 * 6 = 18\n",
      "3 * 7 = 21\n",
      "3 * 8 = 24\n",
      "3 * 9 = 27\n",
      "3 * 10 = 30\n",
      "4 * 1 = 4\n",
      "4 * 2 = 8\n",
      "4 * 3 = 12\n",
      "4 * 4 = 16\n",
      "4 * 5 = 20\n",
      "4 * 6 = 24\n",
      "4 * 7 = 28\n",
      "4 * 8 = 32\n",
      "4 * 9 = 36\n",
      "4 * 10 = 40\n",
      "5 * 1 = 5\n",
      "5 * 2 = 10\n",
      "5 * 3 = 15\n",
      "5 * 4 = 20\n",
      "5 * 5 = 25\n",
      "5 * 6 = 30\n",
      "5 * 7 = 35\n",
      "5 * 8 = 40\n",
      "5 * 9 = 45\n",
      "5 * 10 = 50\n",
      "6 * 1 = 6\n",
      "6 * 2 = 12\n",
      "6 * 3 = 18\n",
      "6 * 4 = 24\n",
      "6 * 5 = 30\n",
      "6 * 6 = 36\n",
      "6 * 7 = 42\n",
      "6 * 8 = 48\n",
      "6 * 9 = 54\n",
      "6 * 10 = 60\n",
      "7 * 1 = 7\n",
      "7 * 2 = 14\n",
      "7 * 3 = 21\n",
      "7 * 4 = 28\n",
      "7 * 5 = 35\n",
      "7 * 6 = 42\n",
      "7 * 7 = 49\n",
      "7 * 8 = 56\n",
      "7 * 9 = 63\n",
      "7 * 10 = 70\n",
      "8 * 1 = 8\n",
      "8 * 2 = 16\n",
      "8 * 3 = 24\n",
      "8 * 4 = 32\n",
      "8 * 5 = 40\n",
      "8 * 6 = 48\n",
      "8 * 7 = 56\n",
      "8 * 8 = 64\n",
      "8 * 9 = 72\n",
      "8 * 10 = 80\n",
      "9 * 1 = 9\n",
      "9 * 2 = 18\n",
      "9 * 3 = 27\n",
      "9 * 4 = 36\n",
      "9 * 5 = 45\n",
      "9 * 6 = 54\n",
      "9 * 7 = 63\n",
      "9 * 8 = 72\n",
      "9 * 9 = 81\n",
      "9 * 10 = 90\n",
      "10 * 1 = 10\n",
      "10 * 2 = 20\n",
      "10 * 3 = 30\n",
      "10 * 4 = 40\n",
      "10 * 5 = 50\n",
      "10 * 6 = 60\n",
      "10 * 7 = 70\n",
      "10 * 8 = 80\n",
      "10 * 9 = 90\n",
      "10 * 10 = 100\n"
     ]
    }
   ],
   "source": [
    "for i in range (1,11):\n",
    "    for j in range (1,11):\n",
    "        sum = i * j\n",
    "        print(f'{i} * {j} = {sum}')\n",
    "#nested loop    "
   ]
  },
  {
   "cell_type": "code",
   "execution_count": 46,
   "id": "c56032fa-9438-429b-8277-16d78af365be",
   "metadata": {},
   "outputs": [
    {
     "data": {
      "text/plain": [
       "5"
      ]
     },
     "execution_count": 46,
     "metadata": {},
     "output_type": "execute_result"
    }
   ],
   "source": [
    "def add(x,y):\n",
    "    return x + y \n",
    "add(2,3)"
   ]
  },
  {
   "cell_type": "code",
   "execution_count": 64,
   "id": "7de92b63-f289-4d87-8716-73eb24bf8bc4",
   "metadata": {},
   "outputs": [
    {
     "data": {
      "text/plain": [
       "29"
      ]
     },
     "execution_count": 64,
     "metadata": {},
     "output_type": "execute_result"
    }
   ],
   "source": [
    "def add(*nums):\n",
    "    sum = 0 \n",
    "    for i in nums:\n",
    "        sum += i\n",
    "    return sum\n",
    "        \n",
    "add(1,2,3,23)\n",
    "\n",
    "#arbitary arguments (*args)"
   ]
  },
  {
   "cell_type": "code",
   "execution_count": 78,
   "id": "948f2d97-3179-45f5-a6af-ec4a106ed31b",
   "metadata": {},
   "outputs": [
    {
     "data": {
      "text/plain": [
       "12"
      ]
     },
     "execution_count": 78,
     "metadata": {},
     "output_type": "execute_result"
    }
   ],
   "source": [
    "def multiply(x, y=3):\n",
    "    return x*y\n",
    "multiply(4)\n",
    "#default value"
   ]
  },
  {
   "cell_type": "code",
   "execution_count": 68,
   "id": "f7de1dab-584d-4fa4-a84e-8ca72f3bee41",
   "metadata": {},
   "outputs": [
    {
     "data": {
      "text/plain": [
       "16"
      ]
     },
     "execution_count": 68,
     "metadata": {},
     "output_type": "execute_result"
    }
   ],
   "source": [
    "multiply(4,4)"
   ]
  },
  {
   "cell_type": "code",
   "execution_count": 72,
   "id": "8a081ce4-6e06-4f32-820f-6d1500f02aa4",
   "metadata": {},
   "outputs": [
    {
     "data": {
      "text/plain": [
       "-1"
      ]
     },
     "execution_count": 72,
     "metadata": {},
     "output_type": "execute_result"
    }
   ],
   "source": [
    "def sub(y,x=3):\n",
    "    return x-y\n",
    "sub(4)"
   ]
  },
  {
   "cell_type": "code",
   "execution_count": 76,
   "id": "0b21901a-bad7-4cfb-a35d-d22f1c181a8e",
   "metadata": {},
   "outputs": [
    {
     "data": {
      "text/plain": [
       "6"
      ]
     },
     "execution_count": 76,
     "metadata": {},
     "output_type": "execute_result"
    }
   ],
   "source": [
    "sum = lambda x,y,z: x+y+z\n",
    "sum(1,2,3)\n",
    " #lambda function"
   ]
  },
  {
   "cell_type": "code",
   "execution_count": 6,
   "id": "02e88017-c22b-42e1-98b8-bb7435614e95",
   "metadata": {},
   "outputs": [],
   "source": [
    "my_typle = (\"Hello\", \"world\", 1,8,2)\n",
    "\n"
   ]
  },
  {
   "cell_type": "code",
   "execution_count": 12,
   "id": "3e9ed12e-acc6-42c6-b7d6-63dc3baa33bb",
   "metadata": {},
   "outputs": [
    {
     "data": {
      "text/plain": [
       "(1, 2, 3, 4, 5, 6, 7, 8, 9)"
      ]
     },
     "execution_count": 12,
     "metadata": {},
     "output_type": "execute_result"
    }
   ],
   "source": [
    "tuple_1 = (1,2,3)\n",
    "tuple_2 = (4,5,6)\n",
    "tuple_3 = (7,8,9)\n",
    "\n",
    "tuple= tuple_1 + tuple_2 + tuple_3\n",
    "tuple"
   ]
  },
  {
   "cell_type": "code",
   "execution_count": 28,
   "id": "563d6ce3-7e75-47d8-a360-51b50326c209",
   "metadata": {},
   "outputs": [
    {
     "data": {
      "text/plain": [
       "{1, 2, 'Hi', 'there'}"
      ]
     },
     "execution_count": 28,
     "metadata": {},
     "output_type": "execute_result"
    }
   ],
   "source": [
    "\n",
    "\n",
    "set_1 = {1,2,\"Hi\", \"there\", \"Hi\", True}\n",
    "set_1\n"
   ]
  },
  {
   "cell_type": "code",
   "execution_count": 24,
   "id": "982b4a8e-36ed-4c96-b217-7206f201702e",
   "metadata": {},
   "outputs": [
    {
     "data": {
      "text/plain": [
       "4"
      ]
     },
     "execution_count": 24,
     "metadata": {},
     "output_type": "execute_result"
    }
   ],
   "source": [
    "len(set_1)"
   ]
  },
  {
   "cell_type": "code",
   "execution_count": 36,
   "id": "979e9165-e7e2-4f12-acd5-4fb94f3a4d74",
   "metadata": {},
   "outputs": [
    {
     "data": {
      "text/plain": [
       "{'Chicago': 3.5, 'New York': 7, 'LA': 6}"
      ]
     },
     "execution_count": 36,
     "metadata": {},
     "output_type": "execute_result"
    }
   ],
   "source": [
    "# python dictionary\n",
    "\n",
    "city_pop = {\n",
    "    \"Chicago\" :3.5,\n",
    "    \"New York\" :7,\n",
    "    \"LA\": 6\n",
    "}\n",
    "city_pop"
   ]
  },
  {
   "cell_type": "code",
   "execution_count": 73,
   "id": "d659618b-ce87-4230-bdfb-809a5755a3ef",
   "metadata": {},
   "outputs": [
    {
     "data": {
      "text/plain": [
       "3.5"
      ]
     },
     "execution_count": 73,
     "metadata": {},
     "output_type": "execute_result"
    }
   ],
   "source": [
    "\n",
    "city_pop[\"Chicago\"]\n",
    "\n",
    "#getting the value (population) of \"Chicago\" (key)"
   ]
  },
  {
   "cell_type": "code",
   "execution_count": 54,
   "id": "6926138e-3501-4b60-9cf2-e13ed2f5d659",
   "metadata": {},
   "outputs": [
    {
     "data": {
      "text/plain": [
       "dict_keys(['Chicago'])"
      ]
     },
     "execution_count": 54,
     "metadata": {},
     "output_type": "execute_result"
    }
   ],
   "source": [
    "city_pop.keys()"
   ]
  },
  {
   "cell_type": "code",
   "execution_count": 57,
   "id": "10764bda-069b-49c8-9a45-0017278d6e10",
   "metadata": {},
   "outputs": [
    {
     "data": {
      "text/plain": [
       "dict_values([3.5])"
      ]
     },
     "execution_count": 57,
     "metadata": {},
     "output_type": "execute_result"
    }
   ],
   "source": [
    "city_pop.values()"
   ]
  },
  {
   "cell_type": "code",
   "execution_count": 59,
   "id": "4852eb03-1b1f-449f-8f26-9c260d686fef",
   "metadata": {},
   "outputs": [
    {
     "data": {
      "text/plain": [
       "dict_items([('Chicago', 3.5)])"
      ]
     },
     "execution_count": 59,
     "metadata": {},
     "output_type": "execute_result"
    }
   ],
   "source": [
    "city_pop.items()"
   ]
  },
  {
   "cell_type": "code",
   "execution_count": 65,
   "id": "de0f9b15-e738-4fe0-8636-689ee790c2fa",
   "metadata": {},
   "outputs": [
    {
     "data": {
      "text/plain": [
       "True"
      ]
     },
     "execution_count": 65,
     "metadata": {},
     "output_type": "execute_result"
    }
   ],
   "source": [
    "\"Chicago\" in city_pop\n",
    "\n",
    "#checking if a particular key exists in a dictionary by using in keyword"
   ]
  },
  {
   "cell_type": "code",
   "execution_count": 63,
   "id": "0a47b200-ed88-4e45-a58c-46a0a84a3315",
   "metadata": {},
   "outputs": [
    {
     "data": {
      "text/plain": [
       "False"
      ]
     },
     "execution_count": 63,
     "metadata": {},
     "output_type": "execute_result"
    }
   ],
   "source": [
    "\"HI\" in city_pop"
   ]
  },
  {
   "cell_type": "code",
   "execution_count": 71,
   "id": "071db642-ac93-41e4-9eb6-342773bdc00a",
   "metadata": {},
   "outputs": [
    {
     "data": {
      "text/plain": [
       "{'Chicago': 3.5, 'Florida': 2.5}"
      ]
     },
     "execution_count": 71,
     "metadata": {},
     "output_type": "execute_result"
    }
   ],
   "source": [
    "city_pop[\"Florida\"] = 2.5\n",
    "city_pop"
   ]
  },
  {
   "cell_type": "code",
   "execution_count": 75,
   "id": "69f6d6f6-1fce-445e-b41d-b426d976b411",
   "metadata": {},
   "outputs": [
    {
     "name": "stdout",
     "output_type": "stream",
     "text": [
      "{'a': 1, 'b': 2, 'c': 3}\n"
     ]
    }
   ],
   "source": [
    "# Example lists\n",
    "keys = ['a', 'b', 'c']\n",
    "values = [1, 2, 3]\n",
    "\n",
    "# Convert lists to dictionary\n",
    "result_dict = dict(zip(keys, values))\n",
    "\n",
    "# Output the result\n",
    "print(result_dict)"
   ]
  },
  {
   "cell_type": "code",
   "execution_count": 4,
   "id": "0ffcfca7-1db9-4765-a20d-6981e70a8cd2",
   "metadata": {},
   "outputs": [
    {
     "name": "stdout",
     "output_type": "stream",
     "text": [
      "School of data science\n",
      "School of data science\n"
     ]
    }
   ],
   "source": [
    "class Student:\n",
    "    school = \"School of data science\"\n",
    "\n",
    "\n",
    "\n",
    "student1 = Student()\n",
    "student2 = Student()\n",
    "print(student1.school)\n",
    "print(student2.school)\n"
   ]
  },
  {
   "cell_type": "code",
   "execution_count": 63,
   "id": "fe2304dc-a0df-4d90-914c-93dc6fdebb96",
   "metadata": {},
   "outputs": [
    {
     "name": "stdout",
     "output_type": "stream",
     "text": [
      "Sam James studies in level 1\n",
      "Sam James studies in level 2\n",
      "Tommy Bot studies in level 3\n",
      "Tommy Bot studies in level 4\n",
      "Katie Homie\n",
      "Mike Tyson\n",
      "1\n",
      "3\n",
      "Katie Homie is in level 1\n",
      "Mike Tyson is in level 3\n",
      "Katie Homie studies in level 1\n",
      "Mike Tyson studies in level 3\n",
      "ELPrimro studies in level 11\n"
     ]
    }
   ],
   "source": [
    "class Student:\n",
    "    #constructure\n",
    "    def __init__(self,name,level):\n",
    "        self.name= name\n",
    "        self.level = level\n",
    "\n",
    "    def __str__(self):\n",
    "        return '{} studies in level {}'.format(self.name, self.level)\n",
    "\n",
    "    def level_up(self):\n",
    "        self.level += 1\n",
    "\n",
    "sam = Student(\"Sam James\", 1)\n",
    "print(sam)\n",
    "sam.level_up()  \n",
    "print(sam)\n",
    "\n",
    "tom = Student(\"Tommy Bot\" , 3)\n",
    "print(tom)\n",
    "tom.level_up()\n",
    "print(tom)\n",
    "\n",
    "student1 = Student(\"Katie Homie\",1)\n",
    "student2 = Student(\"Mike Tyson\",3)\n",
    "student3 = Student(\"ELPrimro\", 11)\n",
    "\n",
    "print(student1.name)\n",
    "print(student2.name)\n",
    "\n",
    "print(student1.level)\n",
    "print(student2.level)\n",
    "\n",
    "print(f\"{student1.name} is in level {student1.level}\")  #to output both name and level\n",
    "print(f\"{student2.name} is in level {student2.level}\") \n",
    "\n",
    "print(student1) \n",
    "print(student2)\n",
    "print(student3)\n",
    "\n"
   ]
  },
  {
   "cell_type": "code",
   "execution_count": 65,
   "id": "03dc6702-0351-4414-9549-259704773aa4",
   "metadata": {},
   "outputs": [
    {
     "name": "stdout",
     "output_type": "stream",
     "text": [
      "Harry studies in level 20\n"
     ]
    }
   ],
   "source": [
    "class MindRisers:\n",
    "    def __init__(self,age,stu_name):\n",
    "        \n",
    "        self.age = age\n",
    "        self.stu_name = stu_name\n",
    "        \n",
    "harry = Student(\"Harry\",20)\n",
    "print(harry)\n",
    "    \n",
    "    "
   ]
  },
  {
   "cell_type": "code",
   "execution_count": null,
   "id": "9881690f-e461-49a4-8a1d-f6cbf9ca6946",
   "metadata": {},
   "outputs": [],
   "source": []
  }
 ],
 "metadata": {
  "kernelspec": {
   "display_name": "Python 3 (ipykernel)",
   "language": "python",
   "name": "python3"
  },
  "language_info": {
   "codemirror_mode": {
    "name": "ipython",
    "version": 3
   },
   "file_extension": ".py",
   "mimetype": "text/x-python",
   "name": "python",
   "nbconvert_exporter": "python",
   "pygments_lexer": "ipython3",
   "version": "3.12.7"
  }
 },
 "nbformat": 4,
 "nbformat_minor": 5
}
