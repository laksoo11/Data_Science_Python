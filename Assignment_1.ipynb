{
 "cells": [
  {
   "cell_type": "markdown",
   "id": "db9749e0-36b5-4441-83f4-9c406f2c3054",
   "metadata": {},
   "source": [
    "ASSIGNMENT 1 "
   ]
  },
  {
   "cell_type": "code",
   "execution_count": 4,
   "id": "7cfc3036-c753-4e4a-98ee-db8227b38b05",
   "metadata": {},
   "outputs": [],
   "source": [
    "x = \"HELLO WORLD\""
   ]
  },
  {
   "cell_type": "code",
   "execution_count": 6,
   "id": "2af16829-8c97-492f-8209-c94077ca27e6",
   "metadata": {},
   "outputs": [
    {
     "data": {
      "text/plain": [
       "'HELLO WORLD'"
      ]
     },
     "execution_count": 6,
     "metadata": {},
     "output_type": "execute_result"
    }
   ],
   "source": [
    "x"
   ]
  },
  {
   "cell_type": "code",
   "execution_count": null,
   "id": "2e7a8c9a-338d-4cfd-bccd-51eb08ec8ac0",
   "metadata": {},
   "outputs": [],
   "source": []
  }
 ],
 "metadata": {
  "kernelspec": {
   "display_name": "Python 3 (ipykernel)",
   "language": "python",
   "name": "python3"
  },
  "language_info": {
   "codemirror_mode": {
    "name": "ipython",
    "version": 3
   },
   "file_extension": ".py",
   "mimetype": "text/x-python",
   "name": "python",
   "nbconvert_exporter": "python",
   "pygments_lexer": "ipython3",
   "version": "3.12.7"
  }
 },
 "nbformat": 4,
 "nbformat_minor": 5
}
