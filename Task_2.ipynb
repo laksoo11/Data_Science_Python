{
 "cells": [
  {
   "cell_type": "markdown",
   "id": "55d1148d-42c3-4539-92f8-d4e9ec995bb9",
   "metadata": {},
   "source": [
    "Markdown\n",
    "# TASK  2) Scenario: Hotel Discount Calculator"
   ]
  },
  {
   "cell_type": "code",
   "execution_count": 2,
   "id": "c266afb6-6bfb-4627-bf98-8f90cc6ee10b",
   "metadata": {},
   "outputs": [
    {
     "name": "stdin",
     "output_type": "stream",
     "text": [
      "Enter the booking month: February\n",
      "Enter the total price of stay ($) : 450\n",
      "Does the guest have membership? (Yes/NO) Yes\n",
      "Enter the length of stay (in nights):  8\n"
     ]
    },
    {
     "name": "stdout",
     "output_type": "stream",
     "text": [
      "The Total Discount is : 25%\n",
      "THe Final Price is : $337.50\n"
     ]
    }
   ],
   "source": [
    "month = input(\"Enter the booking month:\").strip().capitalize()\n",
    "total_price = float(input(\"Enter the total price of stay ($) :\"))\n",
    "membership_status = input(\"Does the guest have membership? (Yes/NO)\").strip().lower()\n",
    "length_of_stay = int(input(\"Enter the length of stay (in nights): \"))\n",
    "\n",
    "seasonal_discount = 0 \n",
    "membership_discount = 0 \n",
    "length_of_stay_discount = 0 \n",
    "\n",
    "if month in [\"January\", \"February\", \"September\"]:\n",
    "    seasonal_discount = 10\n",
    "\n",
    "if membership_status == \"yes\":\n",
    "    membership_discount = 15\n",
    "\n",
    "if length_of_stay >= 7:\n",
    "   length_of_stay_discount = 5\n",
    "\n",
    "total_discount = seasonal_discount + membership_discount + length_of_stay_discount\n",
    "\n",
    "if total_discount > 25:\n",
    "    total_discount = 25\n",
    "\n",
    "final_price = total_price * (1- total_discount / 100)\n",
    "\n",
    "print(f\"The Total Discount is : {total_discount}%\")\n",
    "print(f\"THe Final Price is : ${final_price:.2f}\")"
   ]
  },
  {
   "cell_type": "code",
   "execution_count": null,
   "id": "c7858d7f-2ac3-4bb6-b393-52bc7a7616b4",
   "metadata": {},
   "outputs": [],
   "source": []
  }
 ],
 "metadata": {
  "kernelspec": {
   "display_name": "Python 3 (ipykernel)",
   "language": "python",
   "name": "python3"
  },
  "language_info": {
   "codemirror_mode": {
    "name": "ipython",
    "version": 3
   },
   "file_extension": ".py",
   "mimetype": "text/x-python",
   "name": "python",
   "nbconvert_exporter": "python",
   "pygments_lexer": "ipython3",
   "version": "3.12.7"
  }
 },
 "nbformat": 4,
 "nbformat_minor": 5
}
